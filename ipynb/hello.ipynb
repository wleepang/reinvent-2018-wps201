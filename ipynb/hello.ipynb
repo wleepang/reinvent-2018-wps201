{
 "cells": [
  {
   "cell_type": "markdown",
   "metadata": {},
   "source": [
    "# This is a Markdown cell\n",
    "\n",
    "Use these cells to add more elaborate documentation to your notebooks.\n",
    "\n",
    "This includes:\n",
    "[hyperlinks](https://en.wikipedia.org/wiki/Hyperlink)\n",
    "\n",
    "Images:\n",
    "![success](https://i.kym-cdn.com/photos/images/newsfeed/000/011/296/success_baby.jpg?1251168454)\n",
    "\n",
    "Math:\n",
    "$$\\text{argmin}_{w_0, \\mathbf{w}} \\sum_{i=1}^{N} (w_0 + \\mathbf{x_i}^\\intercal \\mathbf{w} - y_i)^2$$"
   ]
  },
  {
   "cell_type": "code",
   "execution_count": null,
   "metadata": {},
   "outputs": [],
   "source": [
    "# This is a code cell\n",
    "\n",
    "from random import randint\n",
    "\n",
    "random_integers = [randint(0, 1000) for i in range(1000)]\n",
    "print(random_integers[:10])\n",
    "\n",
    "def doubler(number):\n",
    "    result = number * 2\n",
    "    print(number, \"doubled is\", result)\n",
    "    \n",
    "    return result\n",
    "\n",
    "doubled_numbers = [doubler(n) for n in random_integers[:10]]"
   ]
  },
  {
   "cell_type": "code",
   "execution_count": null,
   "metadata": {},
   "outputs": [],
   "source": []
  }
 ],
 "metadata": {
  "kernelspec": {
   "display_name": "conda_python3",
   "language": "python",
   "name": "conda_python3"
  },
  "language_info": {
   "codemirror_mode": {
    "name": "ipython",
    "version": 3
   },
   "file_extension": ".py",
   "mimetype": "text/x-python",
   "name": "python",
   "nbconvert_exporter": "python",
   "pygments_lexer": "ipython3",
   "version": "3.6.5"
  }
 },
 "nbformat": 4,
 "nbformat_minor": 2
}
